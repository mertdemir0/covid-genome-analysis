{
 "cells": [
  {
   "cell_type": "code",
   "execution_count": 2,
   "metadata": {
    "collapsed": true
   },
   "outputs": [],
   "source": [
    "import numpy as np\n",
    "\n",
    "seq1 = \"ATTAAAGGTTTA\"\n",
    "seq2 = \"CAACTTTCGATC\"\n",
    "\n",
    "scores = np.zeros((len(seq1) + 1, len(seq2) + 1))\n",
    "scores[:,0] = [-1 * i for i in range(0, len(seq1)+1)]\n",
    "scores[0,:] = [-1 * i for i in range(0, len(seq2)+1)]"
   ]
  },
  {
   "cell_type": "code",
   "execution_count": 10,
   "outputs": [],
   "source": [
    "# implement needleman-wunsch\n",
    "pointers = {}\n",
    "indel_score = -1\n",
    "match_score = 1\n",
    "\n",
    "for i in range(1, len(seq1) * 2):\n",
    "    row_sel = i\n",
    "    col_sel = 1\n",
    "    while row_sel >= 1 and col_sel < len(seq2)+1:\n",
    "        if row_sel >= len(seq1)+1:\n",
    "            row_sel -= 1\n",
    "            col_sel += 1\n",
    "            continue\n",
    "        diag = scores[row_sel-1,col_sel-1]\n",
    "        left = scores[row_sel, col_sel-1] - 1\n",
    "        top = scores[row_sel-1, col_sel] - 1\n",
    "\n",
    "        if seq1[row_sel-1] == seq2[col_sel-1]:\n",
    "            diag += 1\n",
    "        else:\n",
    "            diag -= 1\n",
    "\n",
    "        combined = [diag, left, top]\n",
    "        max_combined = max(combined)\n",
    "        ind = [i for i, j in enumerate(combined) if j == max_combined]\n",
    "\n",
    "        pointer_key = \"{}_{}\".format(row_sel, col_sel)\n",
    "        pointers[pointer_key] = []\n",
    "        if 0 in ind:\n",
    "            pointers[pointer_key].append((row_sel-1,col_sel-1))\n",
    "        if 1 in ind:\n",
    "            pointers[pointer_key].append((row_sel, col_sel-1))\n",
    "        if 2 in ind:\n",
    "            pointers[pointer_key].append((row_sel-1, col_sel))\n",
    "\n",
    "        scores[row_sel, col_sel] = max_combined\n",
    "        row_sel -= 1\n",
    "        col_sel += 1"
   ],
   "metadata": {
    "collapsed": false,
    "pycharm": {
     "name": "#%%\n"
    }
   }
  },
  {
   "cell_type": "code",
   "execution_count": 11,
   "outputs": [],
   "source": [
    "alignments = []\n",
    "\n",
    "def parse_alignments(row, col, align1, align2):\n",
    "    pointer_index = \"{}_{}\".format(row, col)\n",
    "    if row==1 and col==1:\n",
    "        alignments.append([align1, align2])\n",
    "        return\n",
    "    if pointer_index not in pointers:\n",
    "        return\n",
    "\n",
    "    for pointer in pointers[pointer_index]:\n",
    "        if pointer[0] == row:\n",
    "            parse_alignments(pointer[0], pointer[1], \"_\" +  align1, seq2[col-1] + align2)\n",
    "        elif pointer[1] == col:\n",
    "            parse_alignments(pointer[0], pointer[1], seq1[row-1] + align1, \"_\" + align2)\n",
    "        else:\n",
    "            parse_alignments(pointer[0], pointer[1], seq1[row-1] + align1, seq2[col-1] + align2)"
   ],
   "metadata": {
    "collapsed": false,
    "pycharm": {
     "name": "#%%\n"
    }
   }
  },
  {
   "cell_type": "code",
   "execution_count": 12,
   "outputs": [
    {
     "data": {
      "text/plain": "[['TTAAAGGTTT__A__', '___AA_CTTTCGATC'],\n ['TTAAAGGTTT__A__', '__A_A_CTTTCGATC'],\n ['TTAAAGGTTT__A__', '__AA__CTTTCGATC'],\n ['TTAAAGGTTT__A__', '___AAC_TTTCGATC'],\n ['TTAAAGGTTT__A__', '__A_AC_TTTCGATC'],\n ['TTAAAGGTTT__A__', '__AA_C_TTTCGATC'],\n ['TTAAAGGTTT__A__', '__AAC__TTTCGATC']]"
     },
     "execution_count": 12,
     "metadata": {},
     "output_type": "execute_result"
    }
   ],
   "source": [
    "parse_alignments(scores.shape[0]-1, scores.shape[1]-1, \"\", \"\")\n",
    "alignments"
   ],
   "metadata": {
    "collapsed": false,
    "pycharm": {
     "name": "#%%\n"
    }
   }
  },
  {
   "cell_type": "code",
   "execution_count": 13,
   "outputs": [
    {
     "name": "stdout",
     "output_type": "stream",
     "text": [
      "TTAAAGGTTT__A__\n",
      "___AA_CTTTCGATC\n"
     ]
    }
   ],
   "source": [
    "print(alignments[0][0])\n",
    "print(alignments[0][1])"
   ],
   "metadata": {
    "collapsed": false,
    "pycharm": {
     "name": "#%%\n"
    }
   }
  },
  {
   "cell_type": "code",
   "execution_count": null,
   "outputs": [],
   "source": [],
   "metadata": {
    "collapsed": false,
    "pycharm": {
     "name": "#%%\n"
    }
   }
  }
 ],
 "metadata": {
  "kernelspec": {
   "name": "pycharm-b3b0a30c",
   "language": "python",
   "display_name": "PyCharm (pythonProject)"
  },
  "language_info": {
   "codemirror_mode": {
    "name": "ipython",
    "version": 2
   },
   "file_extension": ".py",
   "mimetype": "text/x-python",
   "name": "python",
   "nbconvert_exporter": "python",
   "pygments_lexer": "ipython2",
   "version": "2.7.6"
  }
 },
 "nbformat": 4,
 "nbformat_minor": 0
}